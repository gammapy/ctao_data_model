{
 "cells": [
  {
   "cell_type": "code",
   "execution_count": 1,
   "id": "122e2cb9-9cc7-46a1-addd-a686ed080816",
   "metadata": {},
   "outputs": [],
   "source": [
    "from astropy.time import Time\n",
    "import astropy.units as u\n",
    "from gammapy.data import EventList, GTI\n",
    "from gammapy.irf import IRF, load_irf_dict_from_file\n",
    "from ctao_data_model import IRFGroup, IRFGroups, VODFObservation"
   ]
  },
  {
   "cell_type": "code",
   "execution_count": 2,
   "id": "d0b1a4c2-effc-4ab1-806f-3b9d3f2ea73d",
   "metadata": {},
   "outputs": [],
   "source": [
    "events = EventList.read(\"$GAMMAPY_DATA/cta-1dc/data/baseline/gps/gps_baseline_111140.fits\")\n",
    "gti = GTI.read(\"$GAMMAPY_DATA/cta-1dc/data/baseline/gps/gps_baseline_111140.fits\")"
   ]
  },
  {
   "cell_type": "code",
   "execution_count": 3,
   "id": "750f6337-5ef5-4bbb-847b-b5756802204c",
   "metadata": {},
   "outputs": [],
   "source": [
    "time_range1 = GTI.from_time_intervals([gti.time_start + [0, 5]*u.min])\n",
    "time_range2 = GTI.from_time_intervals([gti.time_stop - [10, 0]*u.min])"
   ]
  },
  {
   "cell_type": "code",
   "execution_count": 4,
   "id": "02e58de8-18f7-47b7-8bf2-1aeec0bbc4e2",
   "metadata": {},
   "outputs": [],
   "source": [
    "irf_dict = load_irf_dict_from_file(\"$GAMMAPY_DATA/cta-caldb/Prod5-South-20deg-AverageAz-14MSTs37SSTs.180000s-v0.1.fits.gz\")\n",
    "group1 = IRFGroup(gti=time_range1, **irf_dict)\n",
    "group2 = IRFGroup(gti=time_range2, **irf_dict)\n",
    "\n",
    "grps = IRFGroups([group1, group2])"
   ]
  },
  {
   "cell_type": "code",
   "execution_count": 5,
   "id": "20f86da4-bb74-423a-b5d6-75cdad0363c2",
   "metadata": {},
   "outputs": [],
   "source": [
    "obs = VODFObservation(obs_id=1, irf_groups=grps, gti=gti, events=events)"
   ]
  },
  {
   "cell_type": "code",
   "execution_count": 6,
   "id": "6e67e5fe-93e7-4448-8351-bee056080d06",
   "metadata": {},
   "outputs": [
    {
     "data": {
      "text/html": [
       "<pre>EventList\n",
       "---------\n",
       "\n",
       "  Instrument       : None\n",
       "  Telescope        : CTA\n",
       "  Obs. ID          : 111140\n",
       "\n",
       "  Number of events : 17628\n",
       "  Event rate       : 9.837 1 / s\n",
       "\n",
       "  Time start       : 59275.5\n",
       "  Time stop        : 59275.52074074074\n",
       "\n",
       "  Min. energy      : 3.00e-02 TeV\n",
       "  Max. energy      : 9.56e+01 TeV\n",
       "  Median energy    : 1.03e-01 TeV\n",
       "\n",
       "  Max. offset      : 5.0 deg\n",
       "</pre>"
      ],
      "text/plain": [
       "<gammapy.data.event_list.EventList at 0x107dda140>"
      ]
     },
     "execution_count": 6,
     "metadata": {},
     "output_type": "execute_result"
    }
   ],
   "source": [
    "obs.events_in_irf_group(0)"
   ]
  },
  {
   "cell_type": "code",
   "execution_count": 7,
   "id": "a79ecc42-2a17-44a8-95c0-c63ac5df9187",
   "metadata": {},
   "outputs": [
    {
     "data": {
      "text/html": [
       "<pre>EventList\n",
       "---------\n",
       "\n",
       "  Instrument       : None\n",
       "  Telescope        : CTA\n",
       "  Obs. ID          : 111140\n",
       "\n",
       "  Number of events : 35541\n",
       "  Event rate       : 19.833 1 / s\n",
       "\n",
       "  Time start       : 59275.5\n",
       "  Time stop        : 59275.52074074074\n",
       "\n",
       "  Min. energy      : 3.00e-02 TeV\n",
       "  Max. energy      : 1.58e+02 TeV\n",
       "  Median energy    : 1.02e-01 TeV\n",
       "\n",
       "  Max. offset      : 5.0 deg\n",
       "</pre>"
      ],
      "text/plain": [
       "<gammapy.data.event_list.EventList at 0x107e55540>"
      ]
     },
     "execution_count": 7,
     "metadata": {},
     "output_type": "execute_result"
    }
   ],
   "source": [
    "obs.events_in_irf_group(1)"
   ]
  },
  {
   "cell_type": "code",
   "execution_count": 8,
   "id": "0bdbf384-73fb-4364-92cc-68d8b406ef5f",
   "metadata": {},
   "outputs": [
    {
     "ename": "ValueError",
     "evalue": "Observation contains more than one IRF group.",
     "output_type": "error",
     "traceback": [
      "\u001b[0;31m---------------------------------------------------------------------------\u001b[0m",
      "\u001b[0;31mValueError\u001b[0m                                Traceback (most recent call last)",
      "Cell \u001b[0;32mIn[8], line 1\u001b[0m\n\u001b[0;32m----> 1\u001b[0m \u001b[43mobs\u001b[49m\u001b[38;5;241;43m.\u001b[39;49m\u001b[43maeff\u001b[49m\n",
      "File \u001b[0;32m~/Code/gammapy-dev/prototypes/ctao_data_model/ctao_data_model/vodf_observation.py:54\u001b[0m, in \u001b[0;36mVODFObservation.aeff\u001b[0;34m(self)\u001b[0m\n\u001b[1;32m     52\u001b[0m     \u001b[38;5;28;01mreturn\u001b[39;00m \u001b[38;5;28mself\u001b[39m\u001b[38;5;241m.\u001b[39m_irf_groups\u001b[38;5;241m.\u001b[39maeff[\u001b[38;5;241m0\u001b[39m]\n\u001b[1;32m     53\u001b[0m \u001b[38;5;28;01melse\u001b[39;00m:\n\u001b[0;32m---> 54\u001b[0m     \u001b[38;5;28;01mraise\u001b[39;00m \u001b[38;5;167;01mValueError\u001b[39;00m(\u001b[38;5;124mf\u001b[39m\u001b[38;5;124m\"\u001b[39m\u001b[38;5;124mObservation contains more than one IRF group.\u001b[39m\u001b[38;5;124m\"\u001b[39m)\n",
      "\u001b[0;31mValueError\u001b[0m: Observation contains more than one IRF group."
     ]
    }
   ],
   "source": [
    "obs.aeff"
   ]
  },
  {
   "cell_type": "code",
   "execution_count": null,
   "id": "fd24cc2f-cd58-4add-a3c5-3c2cf069820c",
   "metadata": {},
   "outputs": [],
   "source": []
  }
 ],
 "metadata": {
  "kernelspec": {
   "display_name": "Python 3 (ipykernel)",
   "language": "python",
   "name": "python3"
  },
  "language_info": {
   "codemirror_mode": {
    "name": "ipython",
    "version": 3
   },
   "file_extension": ".py",
   "mimetype": "text/x-python",
   "name": "python",
   "nbconvert_exporter": "python",
   "pygments_lexer": "ipython3",
   "version": "3.10.13"
  }
 },
 "nbformat": 4,
 "nbformat_minor": 5
}
