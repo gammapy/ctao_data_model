{
 "cells": [
  {
   "cell_type": "code",
   "execution_count": 1,
   "id": "122e2cb9-9cc7-46a1-addd-a686ed080816",
   "metadata": {},
   "outputs": [],
   "source": [
    "from astropy.time import Time\n",
    "import astropy.units as u\n",
    "from gammapy.data import EventList, GTI\n",
    "from gammapy.irf import IRF, load_irf_dict_from_file\n",
    "from ctao_data_model import IRFGroup, IRFGroups, VODFObservation"
   ]
  },
  {
   "cell_type": "code",
   "execution_count": 2,
   "id": "d0b1a4c2-effc-4ab1-806f-3b9d3f2ea73d",
   "metadata": {},
   "outputs": [],
   "source": [
    "events = EventList.read(\"$GAMMAPY_DATA/cta-1dc/data/baseline/gps/gps_baseline_111140.fits\")\n",
    "gti = GTI.read(\"$GAMMAPY_DATA/cta-1dc/data/baseline/gps/gps_baseline_111140.fits\")"
   ]
  },
  {
   "cell_type": "code",
   "execution_count": 3,
   "id": "750f6337-5ef5-4bbb-847b-b5756802204c",
   "metadata": {},
   "outputs": [],
   "source": [
    "time_range1 = GTI.from_time_intervals([gti.time_start + [0, 5]*u.min])\n",
    "time_range2 = GTI.from_time_intervals([gti.time_stop - [10, 0]*u.min])"
   ]
  },
  {
   "cell_type": "code",
   "execution_count": 4,
   "id": "02e58de8-18f7-47b7-8bf2-1aeec0bbc4e2",
   "metadata": {},
   "outputs": [],
   "source": [
    "irf_dict = load_irf_dict_from_file(\"$GAMMAPY_DATA/cta-caldb/Prod5-South-20deg-AverageAz-14MSTs37SSTs.180000s-v0.1.fits.gz\")\n",
    "group1 = IRFGroup(gti=time_range1, **irf_dict)\n",
    "group2 = IRFGroup(gti=time_range2, **irf_dict)\n",
    "\n",
    "grps = IRFGroups([group1, group2])"
   ]
  },
  {
   "cell_type": "code",
   "execution_count": 5,
   "id": "20f86da4-bb74-423a-b5d6-75cdad0363c2",
   "metadata": {},
   "outputs": [],
   "source": [
    "obs = VODFObservation(obs_id=1, irf_groups=grps, gti=gti, events=events)"
   ]
  },
  {
   "cell_type": "code",
   "execution_count": 6,
   "id": "6e67e5fe-93e7-4448-8351-bee056080d06",
   "metadata": {},
   "outputs": [
    {
     "data": {
      "text/html": [
       "<pre>EventList\n",
       "---------\n",
       "\n",
       "  Instrument       : None\n",
       "  Telescope        : CTA\n",
       "  Obs. ID          : 111140\n",
       "\n",
       "  Number of events : 17628\n",
       "  Event rate       : 9.837 1 / s\n",
       "\n",
       "  Time start       : 59275.5\n",
       "  Time stop        : 59275.52074074074\n",
       "\n",
       "  Min. energy      : 3.00e-02 TeV\n",
       "  Max. energy      : 9.56e+01 TeV\n",
       "  Median energy    : 1.03e-01 TeV\n",
       "\n",
       "  Max. offset      : 5.0 deg\n",
       "</pre>"
      ],
      "text/plain": [
       "<gammapy.data.event_list.EventList at 0x10b241f90>"
      ]
     },
     "execution_count": 6,
     "metadata": {},
     "output_type": "execute_result"
    }
   ],
   "source": [
    "obs.events_in_irf_group(0)"
   ]
  },
  {
   "cell_type": "code",
   "execution_count": 7,
   "id": "a79ecc42-2a17-44a8-95c0-c63ac5df9187",
   "metadata": {},
   "outputs": [
    {
     "data": {
      "text/html": [
       "<pre>EventList\n",
       "---------\n",
       "\n",
       "  Instrument       : None\n",
       "  Telescope        : CTA\n",
       "  Obs. ID          : 111140\n",
       "\n",
       "  Number of events : 35541\n",
       "  Event rate       : 19.833 1 / s\n",
       "\n",
       "  Time start       : 59275.5\n",
       "  Time stop        : 59275.52074074074\n",
       "\n",
       "  Min. energy      : 3.00e-02 TeV\n",
       "  Max. energy      : 1.58e+02 TeV\n",
       "  Median energy    : 1.02e-01 TeV\n",
       "\n",
       "  Max. offset      : 5.0 deg\n",
       "</pre>"
      ],
      "text/plain": [
       "<gammapy.data.event_list.EventList at 0x12fdc7880>"
      ]
     },
     "execution_count": 7,
     "metadata": {},
     "output_type": "execute_result"
    }
   ],
   "source": [
    "obs.events_in_irf_group(1)"
   ]
  },
  {
   "cell_type": "code",
   "execution_count": 10,
   "id": "0bdbf384-73fb-4364-92cc-68d8b406ef5f",
   "metadata": {},
   "outputs": [
    {
     "data": {
      "text/html": [
       "<pre>EffectiveAreaTable2D\n",
       "--------------------\n",
       "\n",
       "  axes  : [&#x27;energy_true&#x27;, &#x27;offset&#x27;]\n",
       "  shape : (42, 6)\n",
       "  ndim  : 2\n",
       "  unit  : m2\n",
       "  dtype : &gt;f4\n",
       "</pre>"
      ],
      "text/plain": [
       "<gammapy.irf.effective_area.EffectiveAreaTable2D at 0x12fdc71c0>"
      ]
     },
     "execution_count": 10,
     "metadata": {},
     "output_type": "execute_result"
    }
   ],
   "source": [
    "obs._irf_groups[0].aeff"
   ]
  },
  {
   "cell_type": "code",
   "execution_count": 12,
   "id": "fd24cc2f-cd58-4add-a3c5-3c2cf069820c",
   "metadata": {},
   "outputs": [],
   "source": []
  },
  {
   "cell_type": "code",
   "execution_count": null,
   "id": "a1af72d2-db30-4a65-a2de-d0282fe63918",
   "metadata": {},
   "outputs": [],
   "source": []
  }
 ],
 "metadata": {
  "kernelspec": {
   "display_name": "Python 3 (ipykernel)",
   "language": "python",
   "name": "python3"
  },
  "language_info": {
   "codemirror_mode": {
    "name": "ipython",
    "version": 3
   },
   "file_extension": ".py",
   "mimetype": "text/x-python",
   "name": "python",
   "nbconvert_exporter": "python",
   "pygments_lexer": "ipython3",
   "version": "3.10.13"
  }
 },
 "nbformat": 4,
 "nbformat_minor": 5
}
